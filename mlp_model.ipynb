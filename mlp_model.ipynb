{
 "cells": [
  {
   "cell_type": "markdown",
   "metadata": {},
   "source": [
    "# MLP model"
   ]
  },
  {
   "cell_type": "code",
   "execution_count": 1,
   "metadata": {},
   "outputs": [],
   "source": [
    "## References:\n",
    "# https://scikit-learn.org/stable/modules/generated/sklearn.neural_network.MLPClassifier.html"
   ]
  },
  {
   "cell_type": "code",
   "execution_count": 2,
   "metadata": {},
   "outputs": [],
   "source": [
    "#libs\n",
    "import numpy as np\n",
    "import matplotlib.pyplot as plt\n",
    "from sklearn.model_selection import train_test_split\n",
    "from sklearn.linear_model import Perceptron\n",
    "from sklearn.metrics import plot_confusion_matrix\n",
    "from sklearn.datasets  import load_digits\n",
    "from sklearn.neural_network import MLPClassifier\n",
    "from sklearn.exceptions import ConvergenceWarning\n",
    "from sklearn.model_selection import cross_val_score\n",
    "import matplotlib.pyplot as plt\n",
    "import pandas as pd\n",
    "import seaborn as sns"
   ]
  },
  {
   "cell_type": "code",
   "execution_count": 3,
   "metadata": {},
   "outputs": [],
   "source": [
    "### Load MNIST data set"
   ]
  },
  {
   "cell_type": "code",
   "execution_count": 4,
   "metadata": {},
   "outputs": [],
   "source": [
    "mnist = load_digits()"
   ]
  },
  {
   "cell_type": "code",
   "execution_count": 5,
   "metadata": {},
   "outputs": [],
   "source": [
    "### Flattening and Normalize the data"
   ]
  },
  {
   "cell_type": "code",
   "execution_count": 6,
   "metadata": {},
   "outputs": [],
   "source": [
    "# this code is adopted from the example from the profressor, Yulia Newton\n",
    "## Defines X, Y\n",
    "n_samples = len(mnist.images)\n",
    "X = mnist.images.reshape((n_samples, -1))\n",
    "X = X.astype(\"float32\") / 255\n",
    "Y = mnist.target"
   ]
  },
  {
   "cell_type": "code",
   "execution_count": 7,
   "metadata": {},
   "outputs": [],
   "source": [
    "### Define and train 7 different MLP models"
   ]
  },
  {
   "cell_type": "code",
   "execution_count": 8,
   "metadata": {},
   "outputs": [],
   "source": [
    "# Set max_iter\n",
    "max_iter = 2000"
   ]
  },
  {
   "cell_type": "code",
   "execution_count": 9,
   "metadata": {},
   "outputs": [],
   "source": [
    "model1 = MLPClassifier(random_state=1, max_iter=2000)"
   ]
  },
  {
   "cell_type": "code",
   "execution_count": 10,
   "metadata": {},
   "outputs": [],
   "source": [
    "model2 = MLPClassifier(hidden_layer_sizes=(400,150,50), activation='relu', max_iter=1200,warm_start=True)"
   ]
  },
  {
   "cell_type": "code",
   "execution_count": 11,
   "metadata": {},
   "outputs": [],
   "source": [
    "model3 = MLPClassifier(hidden_layer_sizes=(400,150,50), activation='logistic', max_iter=1200,warm_start=True)"
   ]
  },
  {
   "cell_type": "code",
   "execution_count": 12,
   "metadata": {},
   "outputs": [],
   "source": [
    "model4 = MLPClassifier(hidden_layer_sizes=(64,32,8), activation='relu', max_iter=2000,warm_start=True)"
   ]
  },
  {
   "cell_type": "code",
   "execution_count": 13,
   "metadata": {},
   "outputs": [],
   "source": [
    "model5 = MLPClassifier(hidden_layer_sizes=(32,16), activation='relu', max_iter=2000,warm_start=True)"
   ]
  },
  {
   "cell_type": "code",
   "execution_count": 14,
   "metadata": {},
   "outputs": [],
   "source": [
    "model6 = MLPClassifier(hidden_layer_sizes=(120,64,16), activation='relu', max_iter=2000,warm_start=True)"
   ]
  },
  {
   "cell_type": "code",
   "execution_count": 15,
   "metadata": {},
   "outputs": [],
   "source": [
    "model7 = MLPClassifier(hidden_layer_sizes=(320,120,32), activation='relu', max_iter=2000,warm_start=True)"
   ]
  },
  {
   "cell_type": "code",
   "execution_count": 16,
   "metadata": {},
   "outputs": [],
   "source": [
    "# Train/ test split\n",
    "X_train, X_test, Y_train, Y_test = train_test_split(X, Y, test_size=0.2, random_state=0, stratify=Y)"
   ]
  },
  {
   "cell_type": "code",
   "execution_count": 17,
   "metadata": {},
   "outputs": [],
   "source": [
    "def train_model(model,accuracy_list,score_list):\n",
    "    accuracy_list.append(cross_val_score(model, X_train, Y_train, cv=5))\n",
    "    model.fit(X_train, Y_train)\n",
    "    score_list.append(model.score(X_test, Y_test))"
   ]
  },
  {
   "cell_type": "code",
   "execution_count": 18,
   "metadata": {},
   "outputs": [],
   "source": [
    "accuracy_list = []\n",
    "score_list = []"
   ]
  },
  {
   "cell_type": "code",
   "execution_count": 19,
   "metadata": {},
   "outputs": [],
   "source": [
    "train_model(model1,accuracy_list,score_list)"
   ]
  },
  {
   "cell_type": "code",
   "execution_count": 20,
   "metadata": {},
   "outputs": [],
   "source": [
    "train_model(model2,accuracy_list,score_list)"
   ]
  },
  {
   "cell_type": "code",
   "execution_count": 21,
   "metadata": {},
   "outputs": [],
   "source": [
    "train_model(model3,accuracy_list,score_list)"
   ]
  },
  {
   "cell_type": "code",
   "execution_count": 22,
   "metadata": {},
   "outputs": [],
   "source": [
    "train_model(model4,accuracy_list,score_list)"
   ]
  },
  {
   "cell_type": "code",
   "execution_count": 23,
   "metadata": {},
   "outputs": [],
   "source": [
    "train_model(model5,accuracy_list,score_list)"
   ]
  },
  {
   "cell_type": "code",
   "execution_count": null,
   "metadata": {},
   "outputs": [],
   "source": [
    "train_model(model6,accuracy_list,score_list)"
   ]
  },
  {
   "cell_type": "code",
   "execution_count": null,
   "metadata": {},
   "outputs": [],
   "source": [
    "train_model(model7,accuracy_list,score_list)"
   ]
  },
  {
   "cell_type": "code",
   "execution_count": null,
   "metadata": {},
   "outputs": [],
   "source": [
    "##SNS plotting data\n",
    "model_name = ['Model1','Model2','Model3','Model4','Model5','Model6','Model7']\n",
    "dt = pd.DataFrame(accuracy_list, index = model_name, columns =['cv1','cv2','cv3','cv4','cv5'])\n",
    "dt = dt.transpose()"
   ]
  },
  {
   "cell_type": "code",
   "execution_count": null,
   "metadata": {},
   "outputs": [],
   "source": [
    "# Creating accuracy dt for table show\n",
    "dt2 = pd.DataFrame(score_list, index = model_name, columns =['test_set'])\n",
    "dt2 = dt2.transpose()"
   ]
  },
  {
   "cell_type": "code",
   "execution_count": null,
   "metadata": {},
   "outputs": [],
   "source": [
    "## Accuracy for each fold\n",
    "fig = plt.figure(figsize = (10, 2))\n",
    "ax = fig.add_subplot(111)\n",
    "accuracy_name= ['cv1','cv2','cv3','cv4','cv5']\n",
    "ax.table(cellText = np.around(dt.values,4),\n",
    "          rowLabels = accuracy_name,\n",
    "          colLabels = dt.columns,\n",
    "          loc = \"center\"\n",
    "         )\n",
    "ax.set_title(\"Accuracy scores for each fold\")\n",
    "ax.axis(\"off\");"
   ]
  },
  {
   "cell_type": "code",
   "execution_count": null,
   "metadata": {},
   "outputs": [],
   "source": [
    "## Accuracy for test set\n",
    "fig = plt.figure(figsize = (10, 2))\n",
    "ax = fig.add_subplot(111)\n",
    "accuracy_name= ['TestSet']\n",
    "ax.table(cellText = np.around(dt2.values,4),\n",
    "          rowLabels = accuracy_name,\n",
    "          colLabels = dt2.columns,\n",
    "          loc = \"center\"\n",
    "         )\n",
    "ax.set_title(\"Accuracy scores for test set\")\n",
    "ax.axis(\"off\");"
   ]
  },
  {
   "cell_type": "code",
   "execution_count": null,
   "metadata": {},
   "outputs": [],
   "source": [
    "scores = np.array(score_list)\n",
    "plt.figure(figsize=(15,7))\n",
    "sns.set_style('whitegrid')\n",
    "sns.violinplot(data=dt,inner=\"quartile\")\n",
    "ax = sns.scatterplot(x=model_name,y=scores,s=400,marker='X', color = 'pink')\n",
    "ax.set(ylim=(0.1, 1.02))"
   ]
  },
  {
   "cell_type": "code",
   "execution_count": null,
   "metadata": {},
   "outputs": [],
   "source": []
  }
 ],
 "metadata": {
  "kernelspec": {
   "display_name": "Python 3",
   "language": "python",
   "name": "python3"
  },
  "language_info": {
   "codemirror_mode": {
    "name": "ipython",
    "version": 3
   },
   "file_extension": ".py",
   "mimetype": "text/x-python",
   "name": "python",
   "nbconvert_exporter": "python",
   "pygments_lexer": "ipython3",
   "version": "3.8.5"
  }
 },
 "nbformat": 4,
 "nbformat_minor": 4
}
